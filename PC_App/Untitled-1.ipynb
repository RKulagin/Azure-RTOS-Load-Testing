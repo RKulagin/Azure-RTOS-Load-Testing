{
 "cells": [
  {
   "cell_type": "code",
   "execution_count": 1,
   "metadata": {},
   "outputs": [],
   "source": [
    "import pandas as pd\n",
    "import numpy as np"
   ]
  },
  {
   "cell_type": "code",
   "execution_count": 2,
   "metadata": {},
   "outputs": [],
   "source": [
    "with open(\"data.csv\", 'r') as file:\n",
    "    data = file.readlines()\n",
    "    data = [line[:-1] for line in data]"
   ]
  },
  {
   "cell_type": "code",
   "execution_count": 3,
   "metadata": {},
   "outputs": [
    {
     "data": {
      "text/plain": [
       "['UART5:680067310',\n",
       " 'UART5RW:4294965895,0',\n",
       " 'UART5:1483928705',\n",
       " 'UART5RW:4294965856,0',\n",
       " 'UART5:2006197710',\n",
       " 'UART5RW:4294965817,0',\n",
       " 'UART5:-564651964',\n",
       " 'UART5RW:4294965778,0',\n",
       " 'UART5:588698274',\n",
       " 'UART5RW:4294965739,0',\n",
       " 'UART5:-1301473147',\n",
       " 'UART5RW:4294965700,0',\n",
       " 'UART5:756041863',\n",
       " 'UART5RW:4294965661,0',\n",
       " 'UART5:-672415024',\n",
       " 'UART5RW:4294965622,0',\n",
       " 'UART5:391292802',\n",
       " 'UART5RW:4294965583,0',\n",
       " 'UART5:-1986649000',\n",
       " 'UART5RW:4294965544,0',\n",
       " 'UART5:-1118321680',\n",
       " 'UART5RW:4294965506,0',\n",
       " 'UART5:-652834378',\n",
       " 'UART5RW:4294965467,0',\n",
       " 'UART5:994362643',\n",
       " 'UART5RW:4294965428,0',\n",
       " 'UART5:285178139',\n",
       " 'UART5RW:4294965389,0',\n",
       " 'UART5:-884317044',\n",
       " 'UART5RW:4294965350,0',\n",
       " 'UART5:430789162',\n",
       " 'UART5RW:4294965311,0',\n",
       " 'UART5:-2125234463',\n",
       " 'UART5RW:4294965272,0',\n",
       " 'UART5:780696603',\n",
       " 'UART5RW:4294965233,0',\n",
       " 'UART5:994416386',\n",
       " 'UART5RW:4294965194,0',\n",
       " 'UART5:1266747773',\n",
       " 'UART5RW:4294965155,0',\n",
       " 'UART5:-1865542831',\n",
       " 'UART5RW:4294965116,0',\n",
       " 'UART6:0',\n",
       " 'UART6ST:4294965115,0',\n",
       " 'UART6RW:4294965105,0',\n",
       " 'UART4:0',\n",
       " 'UART4ST:4294965115,0',\n",
       " 'UART4RW:4294965100,0',\n",
       " 'UART6:0',\n",
       " 'UART6ST:4294965095,0',\n",
       " 'UART6RW:4294965085,0',\n",
       " 'UART4:0',\n",
       " 'UART4ST:4294965096,0',\n",
       " 'UART4RW:4294965081,0',\n",
       " 'UART6:0',\n",
       " 'UART6ST:4294965075,0',\n",
       " 'UART6RW:4294965065,0',\n",
       " 'UART5:1189820507',\n",
       " 'UART5RW:4294965063,0',\n",
       " 'UART4:0',\n",
       " 'UART4ST:4294965074,0',\n",
       " 'UART4RW:4294965059,0',\n",
       " 'UART6:0',\n",
       " 'UART6ST:4294965054,0',\n",
       " 'UART6RW:4294965044,0',\n",
       " 'UART4:0',\n",
       " 'UART4ST:4294965055,0',\n",
       " 'UART4RW:4294965040,0',\n",
       " 'UART6:0',\n",
       " 'UART6ST:4294965035,0',\n",
       " 'UART6RW:4294965025,0',\n",
       " 'UART4:0',\n",
       " 'UART4ST:4294965041,0',\n",
       " 'UART4RW:4294965025,0',\n",
       " 'UART4:0',\n",
       " 'UART4ST:4294965027,0',\n",
       " 'UART4RW:4294965010,0',\n",
       " 'UART5:1229048594',\n",
       " 'UART5RW:4294965004,0',\n",
       " 'UART6:0',\n",
       " 'UART6ST:4294965013,0',\n",
       " 'UART6RW:4294965003,0',\n",
       " 'UART4:0',\n",
       " 'UART4ST:4294965013,0',\n",
       " 'UART4RW:4294964995,0',\n",
       " 'UART6:0',\n",
       " 'UART6ST:4294964997,0',\n",
       " 'UART6RW:4294964987,0',\n",
       " 'UART4:0',\n",
       " 'UART4ST:4294965000,0',\n",
       " 'UART4RW:4294964980,0',\n",
       " 'UART6:0',\n",
       " 'UART6ST:4294964984,0',\n",
       " 'UART6RW:4294964974,0',\n",
       " 'UART4:0',\n",
       " 'UART4ST:4294964983,0',\n",
       " 'UART4RW:4294964965,0',\n",
       " 'UART6:0',\n",
       " 'UART6ST:4294964970,0',\n",
       " 'UART6RW:4294964960,0',\n",
       " 'UART6:0',\n",
       " 'UART6ST:4294964962,0',\n",
       " 'UART6RW:4294964950,0',\n",
       " 'UART4:862453760',\n",
       " 'UART4ST:4294964970,0',\n",
       " 'UART4RW:4294964950,0',\n",
       " 'UART5:-1659980442',\n",
       " 'UART5RW:4294964945,0',\n",
       " 'UART6:0',\n",
       " 'UART6ST:4294964950,0',\n",
       " 'UART6RW:4294964940,0',\n",
       " 'UART4:-1375731712',\n",
       " 'UART4ST:4294964956,0',\n",
       " 'UART4RW:4294964935,0',\n",
       " 'UART6:0',\n",
       " 'UART6ST:4294964941,0',\n",
       " 'UART6RW:4294964930,0',\n",
       " 'UART6:0',\n",
       " 'UART6ST:4294964933,0',\n",
       " 'UART6RW:4294964920,0',\n",
       " 'UART4:0',\n",
       " 'UART4ST:4294964945,0',\n",
       " 'UART4RW:4294964920,0',\n",
       " 'UART6:0',\n",
       " 'UART6ST:4294964922,0',\n",
       " 'UART6RW:4294964910,0',\n",
       " 'UART4:0',\n",
       " 'UART4ST:4294964937,0',\n",
       " 'UART4RW:4294964905,0',\n",
       " 'UART6:0',\n",
       " 'UART6ST:4294964919,0',\n",
       " 'UART6RW:4294964900,0',\n",
       " 'UART5:-206262120',\n",
       " 'UART5RW:4294964891,0',\n",
       " 'UART6:0',\n",
       " 'UART6ST:4294964916,0',\n",
       " 'UART6RW:4294964890,0',\n",
       " 'UART4:0',\n",
       " 'UART4ST:4294964929,0',\n",
       " 'UART4RW:4294964890,0',\n",
       " 'UART6:0',\n",
       " 'UART6ST:4294964911,0',\n",
       " 'UART6RW:4294964880,0',\n",
       " 'UART4:0',\n",
       " 'UART4ST:4294964920,0',\n",
       " 'UART4RW:4294964875,0',\n",
       " 'UART6:0',\n",
       " 'UART6ST:4294964906,0',\n",
       " 'UART6RW:4294964870,0',\n",
       " 'UART6:0',\n",
       " 'UART6ST:4294964900,0',\n",
       " 'UART6RW:4294964860,0',\n",
       " 'UART4:0',\n",
       " 'UART4ST:4294964911,0',\n",
       " 'UART4RW:4294964860,0',\n",
       " 'UART4:-2147483648',\n",
       " 'UART4ST:4294964904,0',\n",
       " 'UART4RW:4294964845,0',\n",
       " 'UART5:-1737321739',\n",
       " 'UART5RW:4294964832,0',\n",
       " 'UART4:0',\n",
       " 'UART4ST:4294964898,0',\n",
       " 'UART4RW:4294964830,0',\n",
       " 'UART4:0',\n",
       " 'UART4ST:4294964894,0',\n",
       " 'UART4RW:4294964815,0',\n",
       " 'UART4:0',\n",
       " 'UART4ST:4294964887,0',\n",
       " 'UART4RW:4294964800,0',\n",
       " 'UART4:-522715136']"
      ]
     },
     "execution_count": 3,
     "metadata": {},
     "output_type": "execute_result"
    }
   ],
   "source": [
    "data"
   ]
  },
  {
   "cell_type": "code",
   "execution_count": 4,
   "metadata": {},
   "outputs": [],
   "source": [
    "df = pd.DataFrame(data)\n",
    "uart4rx = df[df[0].str.startswith('UART4RW:')]\n",
    "uart5rx = df[df[0].str.startswith('UART5RW:')]\n",
    "uart6rx = df[df[0].str.startswith('UART6RW:')]"
   ]
  },
  {
   "cell_type": "code",
   "execution_count": 5,
   "metadata": {},
   "outputs": [
    {
     "name": "stderr",
     "output_type": "stream",
     "text": [
      "c:\\Users\\rusku\\Documents\\ASVT 74\\Azure-RTOS-Load-Testing\\venv\\lib\\site-packages\\ipykernel_launcher.py:1: SettingWithCopyWarning: \n",
      "A value is trying to be set on a copy of a slice from a DataFrame.\n",
      "Try using .loc[row_indexer,col_indexer] = value instead\n",
      "\n",
      "See the caveats in the documentation: https://pandas.pydata.org/pandas-docs/stable/user_guide/indexing.html#returning-a-view-versus-a-copy\n",
      "  \"\"\"Entry point for launching an IPython kernel.\n",
      "c:\\Users\\rusku\\Documents\\ASVT 74\\Azure-RTOS-Load-Testing\\venv\\lib\\site-packages\\ipykernel_launcher.py:2: SettingWithCopyWarning: \n",
      "A value is trying to be set on a copy of a slice from a DataFrame.\n",
      "Try using .loc[row_indexer,col_indexer] = value instead\n",
      "\n",
      "See the caveats in the documentation: https://pandas.pydata.org/pandas-docs/stable/user_guide/indexing.html#returning-a-view-versus-a-copy\n",
      "  \n",
      "c:\\Users\\rusku\\Documents\\ASVT 74\\Azure-RTOS-Load-Testing\\venv\\lib\\site-packages\\ipykernel_launcher.py:3: SettingWithCopyWarning: \n",
      "A value is trying to be set on a copy of a slice from a DataFrame.\n",
      "Try using .loc[row_indexer,col_indexer] = value instead\n",
      "\n",
      "See the caveats in the documentation: https://pandas.pydata.org/pandas-docs/stable/user_guide/indexing.html#returning-a-view-versus-a-copy\n",
      "  This is separate from the ipykernel package so we can avoid doing imports until\n"
     ]
    }
   ],
   "source": [
    "uart4rx[0] = uart4rx[0].str.replace('UART4RW:', '')\n",
    "uart4rx[0] = uart4rx[0].str.replace(',0','')\n",
    "uart4rx[0] = uart4rx[0].astype(dtype=np.int64)"
   ]
  },
  {
   "cell_type": "code",
   "execution_count": 6,
   "metadata": {},
   "outputs": [
    {
     "name": "stderr",
     "output_type": "stream",
     "text": [
      "c:\\Users\\rusku\\Documents\\ASVT 74\\Azure-RTOS-Load-Testing\\venv\\lib\\site-packages\\ipykernel_launcher.py:1: SettingWithCopyWarning: \n",
      "A value is trying to be set on a copy of a slice from a DataFrame.\n",
      "Try using .loc[row_indexer,col_indexer] = value instead\n",
      "\n",
      "See the caveats in the documentation: https://pandas.pydata.org/pandas-docs/stable/user_guide/indexing.html#returning-a-view-versus-a-copy\n",
      "  \"\"\"Entry point for launching an IPython kernel.\n",
      "c:\\Users\\rusku\\Documents\\ASVT 74\\Azure-RTOS-Load-Testing\\venv\\lib\\site-packages\\ipykernel_launcher.py:2: SettingWithCopyWarning: \n",
      "A value is trying to be set on a copy of a slice from a DataFrame.\n",
      "Try using .loc[row_indexer,col_indexer] = value instead\n",
      "\n",
      "See the caveats in the documentation: https://pandas.pydata.org/pandas-docs/stable/user_guide/indexing.html#returning-a-view-versus-a-copy\n",
      "  \n",
      "c:\\Users\\rusku\\Documents\\ASVT 74\\Azure-RTOS-Load-Testing\\venv\\lib\\site-packages\\ipykernel_launcher.py:3: SettingWithCopyWarning: \n",
      "A value is trying to be set on a copy of a slice from a DataFrame.\n",
      "Try using .loc[row_indexer,col_indexer] = value instead\n",
      "\n",
      "See the caveats in the documentation: https://pandas.pydata.org/pandas-docs/stable/user_guide/indexing.html#returning-a-view-versus-a-copy\n",
      "  This is separate from the ipykernel package so we can avoid doing imports until\n"
     ]
    }
   ],
   "source": [
    "uart5rx[0] = uart5rx[0].str.replace('UART5RW:', '')\n",
    "uart5rx[0] = uart5rx[0].str.replace(',0','')\n",
    "uart5rx[0] = uart5rx[0].astype(dtype=np.int64)"
   ]
  },
  {
   "cell_type": "code",
   "execution_count": 7,
   "metadata": {},
   "outputs": [
    {
     "name": "stderr",
     "output_type": "stream",
     "text": [
      "c:\\Users\\rusku\\Documents\\ASVT 74\\Azure-RTOS-Load-Testing\\venv\\lib\\site-packages\\ipykernel_launcher.py:1: SettingWithCopyWarning: \n",
      "A value is trying to be set on a copy of a slice from a DataFrame.\n",
      "Try using .loc[row_indexer,col_indexer] = value instead\n",
      "\n",
      "See the caveats in the documentation: https://pandas.pydata.org/pandas-docs/stable/user_guide/indexing.html#returning-a-view-versus-a-copy\n",
      "  \"\"\"Entry point for launching an IPython kernel.\n",
      "c:\\Users\\rusku\\Documents\\ASVT 74\\Azure-RTOS-Load-Testing\\venv\\lib\\site-packages\\ipykernel_launcher.py:2: SettingWithCopyWarning: \n",
      "A value is trying to be set on a copy of a slice from a DataFrame.\n",
      "Try using .loc[row_indexer,col_indexer] = value instead\n",
      "\n",
      "See the caveats in the documentation: https://pandas.pydata.org/pandas-docs/stable/user_guide/indexing.html#returning-a-view-versus-a-copy\n",
      "  \n",
      "c:\\Users\\rusku\\Documents\\ASVT 74\\Azure-RTOS-Load-Testing\\venv\\lib\\site-packages\\ipykernel_launcher.py:3: SettingWithCopyWarning: \n",
      "A value is trying to be set on a copy of a slice from a DataFrame.\n",
      "Try using .loc[row_indexer,col_indexer] = value instead\n",
      "\n",
      "See the caveats in the documentation: https://pandas.pydata.org/pandas-docs/stable/user_guide/indexing.html#returning-a-view-versus-a-copy\n",
      "  This is separate from the ipykernel package so we can avoid doing imports until\n"
     ]
    }
   ],
   "source": [
    "uart6rx[0] = uart6rx[0].str.replace('UART6RW:', '')\n",
    "uart6rx[0] = uart6rx[0].str.replace(',0','')\n",
    "uart6rx[0] = uart6rx[0].astype(dtype=np.int64)"
   ]
  },
  {
   "cell_type": "code",
   "execution_count": 8,
   "metadata": {},
   "outputs": [
    {
     "data": {
      "text/plain": [
       "(              0\n",
       " 47   4294965100\n",
       " 53   4294965081\n",
       " 61   4294965059\n",
       " 67   4294965040\n",
       " 73   4294965025\n",
       " 76   4294965010\n",
       " 84   4294964995\n",
       " 90   4294964980\n",
       " 96   4294964965\n",
       " 105  4294964950,\n",
       "              0\n",
       " 1   4294965895\n",
       " 3   4294965856\n",
       " 5   4294965817\n",
       " 7   4294965778\n",
       " 9   4294965739\n",
       " 11  4294965700\n",
       " 13  4294965661\n",
       " 15  4294965622\n",
       " 17  4294965583\n",
       " 19  4294965544,\n",
       "               0\n",
       " 44   4294965105\n",
       " 50   4294965085\n",
       " 56   4294965065\n",
       " 64   4294965044\n",
       " 70   4294965025\n",
       " 81   4294965003\n",
       " 87   4294964987\n",
       " 93   4294964974\n",
       " 99   4294964960\n",
       " 102  4294964950)"
      ]
     },
     "execution_count": 8,
     "metadata": {},
     "output_type": "execute_result"
    }
   ],
   "source": [
    "uart4rx.head(10), uart5rx.head(10), uart6rx.head(10)"
   ]
  },
  {
   "cell_type": "code",
   "execution_count": 9,
   "metadata": {},
   "outputs": [
    {
     "name": "stderr",
     "output_type": "stream",
     "text": [
      "c:\\Users\\rusku\\Documents\\ASVT 74\\Azure-RTOS-Load-Testing\\venv\\lib\\site-packages\\ipykernel_launcher.py:1: SettingWithCopyWarning: \n",
      "A value is trying to be set on a copy of a slice from a DataFrame.\n",
      "Try using .loc[row_indexer,col_indexer] = value instead\n",
      "\n",
      "See the caveats in the documentation: https://pandas.pydata.org/pandas-docs/stable/user_guide/indexing.html#returning-a-view-versus-a-copy\n",
      "  \"\"\"Entry point for launching an IPython kernel.\n",
      "c:\\Users\\rusku\\Documents\\ASVT 74\\Azure-RTOS-Load-Testing\\venv\\lib\\site-packages\\ipykernel_launcher.py:2: SettingWithCopyWarning: \n",
      "A value is trying to be set on a copy of a slice from a DataFrame.\n",
      "Try using .loc[row_indexer,col_indexer] = value instead\n",
      "\n",
      "See the caveats in the documentation: https://pandas.pydata.org/pandas-docs/stable/user_guide/indexing.html#returning-a-view-versus-a-copy\n",
      "  \n",
      "c:\\Users\\rusku\\Documents\\ASVT 74\\Azure-RTOS-Load-Testing\\venv\\lib\\site-packages\\ipykernel_launcher.py:3: SettingWithCopyWarning: \n",
      "A value is trying to be set on a copy of a slice from a DataFrame.\n",
      "Try using .loc[row_indexer,col_indexer] = value instead\n",
      "\n",
      "See the caveats in the documentation: https://pandas.pydata.org/pandas-docs/stable/user_guide/indexing.html#returning-a-view-versus-a-copy\n",
      "  This is separate from the ipykernel package so we can avoid doing imports until\n"
     ]
    }
   ],
   "source": [
    "uart4rx[0] = 4294965993 - uart4rx[0] \n",
    "uart5rx[0] = 4294965993 - uart5rx[0] \n",
    "uart6rx[0] = 4294965993 - uart6rx[0] "
   ]
  },
  {
   "cell_type": "code",
   "execution_count": null,
   "metadata": {},
   "outputs": [],
   "source": [
    "def visualization2(a,b):\n",
    "\n",
    "    x1 = []\n",
    "    y1 = []\n",
    "    for pt in a:\n",
    "        x1 += [pt[0]]\n",
    "        y1 += [pt[1]]\n",
    "    plt.plot(x1,y1, 'yo')\n",
    "    \n",
    "    m1 = range(len(x1))\n",
    "    for i in np.arange(0,len(m1)-1,2):\n",
    "        plt.plot(x1[i:i+2],y1[i:i+2], color=b)\n",
    "        curr_dist = round(DistanceBwPoints([my_list[i], my_list[i+1]]),2)\n",
    "        print(i, curr_dist)\n",
    "\n",
    "my_list = uart5rx[0].diff().dropna().abs().tolist()\n",
    "\n",
    "visualization2(my_list,'red') \n",
    "plt.axis('equal')\n",
    "plt.show()\n"
   ]
  },
  {
   "cell_type": "code",
   "execution_count": 11,
   "metadata": {},
   "outputs": [
    {
     "data": {
      "text/plain": [
       "(600.0, 1200.0)"
      ]
     },
     "execution_count": 11,
     "metadata": {},
     "output_type": "execute_result"
    },
    {
     "data": {
      "image/png": "[encoded data removed]",
      "text/plain": [
       "<Figure size 640x480 with 1 Axes>"
      ]
     },
     "metadata": {},
     "output_type": "display_data"
    }
   ],
   "source": [
    "# plot points from uart\n",
    "import matplotlib.pyplot as plt\n",
    "plt.plot(uart4rx[0], [0.9] * len(uart4rx), 'bo')\n",
    "plt.plot(uart5rx[0], [0.95] * len(uart5rx), 'go')\n",
    "plt.plot(uart6rx[0], [1] * len(uart6rx), 'ro')\n",
    "for x, s in zip(uart5rx[0].tolist()[:-1], uart5rx[0].diff().dropna().abs().tolist()):\n",
    "    plt.text(x+3, 0.955, s, fontsize=8)\n",
    "# plt.text(,  ha=\"right\", va=\"bottom\")\n",
    "# specify the limits of the plot\n",
    "# plt.xlim(0, 4294965993)\n",
    "plt.ylim(0.8, 1.1)\n",
    "plt.xlim(600, 1200)\n",
    "# draw deltas between points"
   ]
  },
  {
   "cell_type": "code",
   "execution_count": 8,
   "metadata": {},
   "outputs": [],
   "source": [
    "# uart5[0] = uart5[0].apply(lambda x: [2**(32*i) * _ for i, _ in enumerate(x)]).copy()\n",
    "# uart5[0] = uart5[0].apply(lambda x: sum(x)).copy()\n",
    "# uart5.head()\n",
    "#"
   ]
  },
  {
   "cell_type": "code",
   "execution_count": 34,
   "metadata": {},
   "outputs": [],
   "source": [
    "uart5[0] = uart5[0].apply(lambda line: [2**(32*idx) * int(x) for idx, x in enumerate(line)]).apply(sum).copy()"
   ]
  },
  {
   "cell_type": "code",
   "execution_count": 43,
   "metadata": {},
   "outputs": [],
   "source": [
    "uart5[0] = abs(uart5[0] - uart5.iloc[0][0])"
   ]
  },
  {
   "cell_type": "code",
   "execution_count": 44,
   "metadata": {},
   "outputs": [],
   "source": [
    "uart5[1] = uart5[0].diff().copy()"
   ]
  },
  {
   "cell_type": "code",
   "execution_count": 45,
   "metadata": {},
   "outputs": [
    {
     "data": {
      "text/html": [
       "<div>\n",
       "<style scoped>\n",
       "    .dataframe tbody tr th:only-of-type {\n",
       "        vertical-align: middle;\n",
       "    }\n",
       "\n",
       "    .dataframe tbody tr th {\n",
       "        vertical-align: top;\n",
       "    }\n",
       "\n",
       "    .dataframe thead th {\n",
       "        text-align: right;\n",
       "    }\n",
       "</style>\n",
       "<table border=\"1\" class=\"dataframe\">\n",
       "  <thead>\n",
       "    <tr style=\"text-align: right;\">\n",
       "      <th></th>\n",
       "      <th>0</th>\n",
       "      <th>1</th>\n",
       "    </tr>\n",
       "  </thead>\n",
       "  <tbody>\n",
       "    <tr>\n",
       "      <th>1</th>\n",
       "      <td>0</td>\n",
       "      <td>NaN</td>\n",
       "    </tr>\n",
       "    <tr>\n",
       "      <th>3</th>\n",
       "      <td>39</td>\n",
       "      <td>39.0</td>\n",
       "    </tr>\n",
       "    <tr>\n",
       "      <th>5</th>\n",
       "      <td>77</td>\n",
       "      <td>38.0</td>\n",
       "    </tr>\n",
       "    <tr>\n",
       "      <th>7</th>\n",
       "      <td>116</td>\n",
       "      <td>39.0</td>\n",
       "    </tr>\n",
       "    <tr>\n",
       "      <th>9</th>\n",
       "      <td>155</td>\n",
       "      <td>39.0</td>\n",
       "    </tr>\n",
       "  </tbody>\n",
       "</table>\n",
       "</div>"
      ],
      "text/plain": [
       "     0     1\n",
       "1    0   NaN\n",
       "3   39  39.0\n",
       "5   77  38.0\n",
       "7  116  39.0\n",
       "9  155  39.0"
      ]
     },
     "execution_count": 45,
     "metadata": {},
     "output_type": "execute_result"
    }
   ],
   "source": [
    "uart5.head()"
   ]
  },
  {
   "cell_type": "code",
   "execution_count": 49,
   "metadata": {},
   "outputs": [
    {
     "data": {
      "image/png": "[encoded data removed]",
      "text/plain": [
       "<Figure size 640x480 with 1 Axes>"
      ]
     },
     "metadata": {},
     "output_type": "display_data"
    }
   ],
   "source": [
    "#plot uart5 x - 0 col y - 1 col\n",
    "from matplotlib import pyplot as plt\n",
    "plt.plot(uart5[0], uart5[1])\n",
    "plt.show()"
   ]
  },
  {
   "cell_type": "code",
   "execution_count": 25,
   "metadata": {},
   "outputs": [
    {
     "name": "stdout",
     "output_type": "stream",
     "text": [
      "Collecting matplotlib\n",
      "  Downloading matplotlib-3.5.3-cp37-cp37m-win_amd64.whl (7.2 MB)\n",
      "Collecting cycler>=0.10\n",
      "  Downloading cycler-0.11.0-py3-none-any.whl (6.4 kB)\n",
      "Collecting pyparsing>=2.2.1\n",
      "  Downloading pyparsing-3.0.9-py3-none-any.whl (98 kB)\n",
      "Collecting fonttools>=4.22.0\n",
      "  Downloading fonttools-4.38.0-py3-none-any.whl (965 kB)\n",
      "Collecting kiwisolver>=1.0.1\n",
      "  Downloading kiwisolver-1.4.4-cp37-cp37m-win_amd64.whl (54 kB)\n",
      "Requirement already satisfied: python-dateutil>=2.7 in c:\\users\\rusku\\documents\\asvt 74\\azure-rtos-load-testing\\venv\\lib\\site-packages (from matplotlib) (2.8.2)\n",
      "Requirement already satisfied: packaging>=20.0 in c:\\users\\rusku\\documents\\asvt 74\\azure-rtos-load-testing\\venv\\lib\\site-packages (from matplotlib) (22.0)\n",
      "Requirement already satisfied: numpy>=1.17 in c:\\users\\rusku\\documents\\asvt 74\\azure-rtos-load-testing\\venv\\lib\\site-packages (from matplotlib) (1.21.6)\n",
      "Collecting pillow>=6.2.0\n",
      "  Downloading Pillow-9.3.0-1-cp37-cp37m-win_amd64.whl (2.5 MB)\n",
      "Collecting typing-extensions\n",
      "  Downloading typing_extensions-4.4.0-py3-none-any.whl (26 kB)\n",
      "Requirement already satisfied: six>=1.5 in c:\\users\\rusku\\documents\\asvt 74\\azure-rtos-load-testing\\venv\\lib\\site-packages (from python-dateutil>=2.7->matplotlib) (1.16.0)\n",
      "Installing collected packages: typing-extensions, pyparsing, pillow, kiwisolver, fonttools, cycler, matplotlib\n",
      "Successfully installed cycler-0.11.0 fonttools-4.38.0 kiwisolver-1.4.4 matplotlib-3.5.3 pillow-9.3.0 pyparsing-3.0.9 typing-extensions-4.4.0\n"
     ]
    },
    {
     "name": "stderr",
     "output_type": "stream",
     "text": [
      "WARNING: You are using pip version 21.3.1; however, version 22.3.1 is available.\n",
      "You should consider upgrading via the 'C:\\Users\\rusku\\Documents\\ASVT 74\\Azure-RTOS-Load-Testing\\venv\\Scripts\\python.exe -m pip install --upgrade pip' command.\n"
     ]
    }
   ],
   "source": []
  },
  {
   "cell_type": "code",
   "execution_count": null,
   "metadata": {},
   "outputs": [],
   "source": []
  }
 ],
 "metadata": {
  "kernelspec": {
   "display_name": "venv",
   "language": "python",
   "name": "python3"
  },
  "language_info": {
   "codemirror_mode": {
    "name": "ipython",
    "version": 3
   },
   "file_extension": ".py",
   "mimetype": "text/x-python",
   "name": "python",
   "nbconvert_exporter": "python",
   "pygments_lexer": "ipython3",
   "version": "3.7.6 (tags/v3.7.6:43364a7ae0, Dec 19 2019, 01:54:44) [MSC v.1916 64 bit (AMD64)]"
  },
  "orig_nbformat": 4,
  "vscode": {
   "interpreter": {
    "hash": "47e03cffe268722eb72289246a89b1f30f3c3106fb3eff341a68f700f0ee44d5"
   }
  }
 },
 "nbformat": 4,
 "nbformat_minor": 2
}
